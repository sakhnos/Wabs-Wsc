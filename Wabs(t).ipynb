{
  "nbformat": 4,
  "nbformat_minor": 0,
  "metadata": {
    "colab": {
      "name": "Wabs(t).ipynb",
      "version": "0.3.2",
      "provenance": [],
      "collapsed_sections": [],
      "include_colab_link": true
    },
    "kernelspec": {
      "name": "python3",
      "display_name": "Python 3"
    },
    "accelerator": "GPU"
  },
  "cells": [
    {
      "cell_type": "markdown",
      "metadata": {
        "id": "view-in-github",
        "colab_type": "text"
      },
      "source": [
        "<a href=\"https://colab.research.google.com/github/sakhnos/Wabs-Wsc/blob/master/Wabs(t).ipynb\" target=\"_parent\"><img src=\"https://colab.research.google.com/assets/colab-badge.svg\" alt=\"Open In Colab\"/></a>"
      ]
    },
    {
      "metadata": {
        "id": "m-MdRUC8bAY3",
        "colab_type": "code",
        "outputId": "400a2598-325c-4790-bed6-4862971e6504",
        "colab": {
          "base_uri": "https://localhost:8080/",
          "height": 405
        }
      },
      "cell_type": "code",
      "source": [
        "%reset -f \n",
        "import numpy as np\n",
        "import math\n",
        "from scipy.integrate import odeint\n",
        "#from numpy import linspace, array\n",
        "import matplotlib.pyplot as plt\n",
        "from matplotlib.ticker import StrMethodFormatter  \n",
        "from scipy.integrate import quad  \n",
        "\n",
        "def EGauss(t, w0, tau, E0, phi):\n",
        "  return E0 * np.exp(-t ** 2 / (2 * tau ** 2)) * np.cos(w0*t + phi)\n",
        "\n",
        "\n",
        "def IntSquared(t, w, w0, tau, E0, phi):\n",
        "  tt = np.arange(-2000, t, 1)                # Small step rises time of calculation extremly! \n",
        "  Jn = np.zeros(len(tt), dtype = np.complex64)  # https://docs.scipy.org/doc/numpy/user/basics.types.html       np.csingle\n",
        "  for i in range(len(Jn)):\n",
        "    Jn[i] = np.exp(1j * w * tt[i]) * EGauss(tt[i], w0, tau, E0, phi)\n",
        "  integral = np.trapz(Jn, tt)\n",
        "  return (np.abs(integral)) ** 2\n",
        "\n",
        "\n",
        "def IntSquaredSciPy(t, w, w0, tau, E0, phi):  \n",
        "  \n",
        "  def func(tt, w, w0, tau, E0, phi):\n",
        "    return np.exp(1j * w * tt) * EGauss(tt, w0, tau, E0, phi) \n",
        "  \n",
        "  JJ = quad(func, -2000, t, args = (w, w0, tau, E0, phi) )   # (tt, w, w0, tau, E0, phi)\n",
        "  return (np.abs(JJ[0])) ** 2 \n",
        "\n",
        "\n",
        "\n",
        "def IntSquared_visualisationSciPy():\n",
        "  t = np.arange(-100, 200, 1)\n",
        "  JJ = np.zeros(len(t))\n",
        "  w = 2.48\n",
        "  w0 = 2.48\n",
        "  tau = 35\n",
        "  E0 = 1\n",
        "  phi = 0\n",
        "  for i in range(len(JJ)):\n",
        "    JJ[i] = IntSquaredSciPy(t[i], w, w0, tau, E0, phi)\n",
        "  plt.plot(t, JJ)\n",
        "  plt.show()\n",
        "IntSquared_visualisationSciPy() \n",
        "\n",
        "\n",
        "\n",
        "# def IntSquared_visualisation():\n",
        "#   t = np.arange(-100, 200, 2)\n",
        "#   JJ = np.zeros(len(t))\n",
        "#   w = 2.48\n",
        "#   w0 = 2.46\n",
        "#   tau = 48\n",
        "#   E0 = 1\n",
        "#   phi = 0\n",
        "#   for i in range(len(JJ)):\n",
        "#     JJ[i] = IntSquaredSciPy(t[i], w, w0, tau, E0, phi)\n",
        "#   plt.plot(t, JJ)\n",
        "#   plt.show()\n",
        "#IntSquared_visualisation() \n",
        "                 "
      ],
      "execution_count": 9,
      "outputs": [
        {
          "output_type": "stream",
          "text": [
            "/usr/local/lib/python3.6/dist-packages/scipy/integrate/quadpack.py:448: ComplexWarning: Casting complex values to real discards the imaginary part\n",
            "  return _quadpack._qagse(func,a,b,args,full_output,epsabs,epsrel,limit)\n",
            "/usr/local/lib/python3.6/dist-packages/ipykernel_launcher.py:28: IntegrationWarning: The maximum number of subdivisions (50) has been achieved.\n",
            "  If increasing the limit yields no improvement it is advised to analyze \n",
            "  the integrand in order to determine the difficulties.  If the position of a \n",
            "  local difficulty can be determined (singularity, discontinuity) one will \n",
            "  probably gain from splitting up the interval and calling the integrator \n",
            "  on the subranges.  Perhaps a special-purpose integrator should be used.\n"
          ],
          "name": "stderr"
        },
        {
          "output_type": "display_data",
          "data": {
            "image/png": "[encoded data removed]",
            "text/plain": [
              "<Figure size 432x288 with 1 Axes>"
            ]
          },
          "metadata": {
            "tags": []
          }
        }
      ]
    },
    {
      "metadata": {
        "id": "xd3vZLrpn6FD",
        "colab_type": "code",
        "colab": {
          "base_uri": "https://localhost:8080/",
          "height": 301
        },
        "outputId": "64907cd0-6b53-4037-f2a0-c1cfaa0b9029"
      },
      "cell_type": "code",
      "source": [
        "aB = 0.052 # Bohr's radius in nm\n",
        "c = 137    # speed of light, at. u.\n",
        "### PLASMON's parameters (Na8-cluster) ######\n",
        "wp = 2.48 / 27.2 # eV, resonant freq of plasmon Na8\n",
        "G = 0.248 / 27.2 # gamma Na8, q = 10\n",
        "R = 0.4 / aB     # radius of cluster, nm\n",
        "#############################################\n",
        "\n",
        "def alpha(w, wp, R, G):   # dynamic polarizability\n",
        "  a = R ** 3 * wp ** 2 / (wp ** 2 - w ** 2 - 1j * w * G)\n",
        "  return a\n",
        "\n",
        "def sigma_abs(w, wp, R, G):\n",
        "  cross_abs = 4 * np.pi * w * np.imag(alpha(w, wp, R, G)) / c   # Optical theorem, p. 184 VA\n",
        "  return  cross_abs \n",
        "\n",
        "def cross_visualisation():\n",
        "    w = np.arange(0, 6, 0.01) / 27.2\n",
        "    sigma = np.zeros(len(w))\n",
        "    for i in range (len(w)):\n",
        "       sigma[i] = sigma_abs(w[i], wp, R, G)\n",
        "    plt.plot(w * 27.2, sigma)\n",
        "    plt.show()\n",
        "    \n",
        "def Gauss_visualisation():\n",
        "    t = np.arange(-20, 20, 0.1)\n",
        "    w0 = 2.4\n",
        "    tau = 2    \n",
        "    sigma = np.zeros(len(t))\n",
        "    for i in range (len(t)):\n",
        "       sigma[i] = EGauss(t[i], w0, tau, 1, 0)\n",
        "    plt.plot(t, sigma)\n",
        "    plt.show()\n",
        "     \n",
        "#Gauss_visualisation()    \n",
        "#cross_visualisation() \n",
        "\n",
        "def W(t, tau, w0, E0, phi):\n",
        "  ww = np.arange(0.1, 5, 0.1) / 27.2\n",
        "  J = np.zeros(len(ww))\n",
        "  for i in range (len(ww)):\n",
        "    J[i] = sigma_abs(ww[i], wp, R, G) * IntSquared(t / 0.024, ww[i],  w0 / 27.2, tau / 0.024, E0, phi) / ww[i] \n",
        "  integral =  (c / (4 * np.pi ** 2) ) * np.trapz(J, ww)   \n",
        "  return integral \n",
        "\n",
        "def W_visualisation():            \n",
        "  t = np.arange(-10, 40, 0.5) # abscissa, fs         \n",
        "  Wabs = np.zeros(len(t)) \n",
        "  tau =10                   # pulses's duration, fs\n",
        "  E0 = 10 ** -3              # electric field strength, at. u.\n",
        "  phi = 0                     \n",
        "  w0 = 2.42                  # GP carrier frequency\n",
        "  # plasmon's parameters see above\n",
        "  for i in range (len(t)):\n",
        "       Wabs[i] = W(t[i], tau, w0, E0, phi)\n",
        "  fig = plt.figure()\n",
        "  fig.patch.set_facecolor('xkcd:white') # outer color        \n",
        "  plt.plot(t, Wabs)   \n",
        "  ax = plt.gca()\n",
        "  ax.set_facecolor((1.0, 1.0, 1.0))    # background color\n",
        "  ax.spines['bottom'].set_linewidth(0.5)\n",
        "  ax.spines['bottom'].set_color('0.0') \n",
        "  ax.spines['top'].set_linewidth(0.5)\n",
        "  ax.spines['top'].set_color('0.0') \n",
        "  ax.spines['left'].set_linewidth(0.5)\n",
        "  ax.spines['left'].set_color('0.0') \n",
        "  ax.spines['right'].set_linewidth(0.5)\n",
        "  ax.spines['right'].set_color('0.0') \n",
        "  ax.grid(b=True, which='major', axis='both', color = 'k', linestyle=':', linewidth=0.2)\n",
        "  plt.xlabel(r't, fs',  {'color': 'k', 'fontsize': 16})\n",
        "  plt.ylabel(r'W', {'color': 'k', 'fontsize': 16})\n",
        "  plt.title(r'$\\tau$ = ' + str(tau) + \" fs\") \n",
        "  plt.ticklabel_format(style='sci', axis='y', scilimits=(2, 3), useOffset=False)\n",
        "  plt.show()\n",
        "          \n",
        "W_visualisation()    "
      ],
      "execution_count": 3,
      "outputs": [
        {
          "output_type": "display_data",
          "data": {
            "image/png": "[encoded data removed]",
            "text/plain": [
              "<Figure size 432x288 with 1 Axes>"
            ]
          },
          "metadata": {
            "tags": []
          }
        }
      ]
    }
  ]
}