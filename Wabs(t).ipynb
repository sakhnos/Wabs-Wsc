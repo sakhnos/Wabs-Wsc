{
  "nbformat": 4,
  "nbformat_minor": 0,
  "metadata": {
    "colab": {
      "name": "Wabs(t).ipynb",
      "version": "0.3.2",
      "provenance": [],
      "collapsed_sections": [],
      "include_colab_link": true
    },
    "kernelspec": {
      "name": "python3",
      "display_name": "Python 3"
    },
    "accelerator": "GPU"
  },
  "cells": [
    {
      "cell_type": "markdown",
      "metadata": {
        "id": "view-in-github",
        "colab_type": "text"
      },
      "source": [
        "<a href=\"https://colab.research.google.com/github/sakhnos/Wabs-Wsc/blob/master/Wabs(t).ipynb\" target=\"_parent\"><img src=\"https://colab.research.google.com/assets/colab-badge.svg\" alt=\"Open In Colab\"/></a>"
      ]
    },
    {
      "metadata": {
        "id": "m-MdRUC8bAY3",
        "colab_type": "code",
        "colab": {
          "base_uri": "https://localhost:8080/",
          "height": 318
        },
        "outputId": "0a08dc79-cc4c-402b-be15-d6beef0c2758"
      },
      "cell_type": "code",
      "source": [
        "%reset -f \n",
        "import numpy as np\n",
        "import math\n",
        "from scipy.integrate import odeint\n",
        "#from numpy import linspace, array\n",
        "import matplotlib.pyplot as plt\n",
        "from matplotlib.ticker import StrMethodFormatter  \n",
        "\n",
        "\n",
        "def EGauss(t, w0, tau, E0, phi):\n",
        "  return E0 * np.exp(-t ** 2 / (2 * tau ** 2)) * np.cos(w0*t + phi)\n",
        "\n",
        "\n",
        "def IntSquared(t, w0, tau, E0, phi):\n",
        "  tt = np.arange(-t, t, 0.03) \n",
        "  J = np.zeros(len(tt))\n",
        "  for i in range(len(J)):\n",
        "    J[i] = np.exp(1j * w0 * tt[i]) * EGauss(tt[i], w0, tau, E0, phi)\n",
        "  integral = np.trapz(J, tt)\n",
        "  return np.abs(integral) ** 2\n",
        "  \n",
        "#print(IntSquared(1, 1, 0.1, 1, 0))\n",
        "aB = 0.052 # Bohr's radius in nm\n",
        "wmax = 5\n",
        "c = 137\n",
        "wp = 2.48 / 27.2 # eV resonant freq of plasmon\n",
        "G = 0.248 / 27.2 # gamma, q = 10\n",
        "R = 0.4 / aB # nm\n",
        "\n",
        "\n",
        "def alpha(w, wp, R, G):   # dynamic polarizability\n",
        "  a = R ** 3 * wp ** 2 / (wp ** 2 - w ** 2 - 1j * w * G)\n",
        "  return a\n",
        "\n",
        "def sigma_abs(w, wp, R, G):\n",
        "  cross_abs = 4 * np.pi * w * np.imag(alpha(w, wp, R, G)) / c   # Optical theorem, p. 184 VA\n",
        "  return  cross_abs \n",
        "\n",
        "def W(t, tau, E0, phi):\n",
        "  ww = np.arange(0.000001, wmax, 0.03) / 27.2\n",
        "  J = np.zeros(len(ww))\n",
        "  for i in range (len(ww)):\n",
        "    J[i] = sigma_abs(ww[i], wp, R, G) * IntSquared(t / 0.024, ww[i], tau / 0.024, E0, phi) / ww[i] \n",
        "  integral =  (c / (4 * np.pi ** 2) ) * np.trapz(J, ww)   \n",
        "  return integral \n",
        "\n",
        "def W_visualisation():            \n",
        "  t = np.arange(0., 3, 0.2)    # in fs         \n",
        "  Wabs = np.zeros(len(t)) \n",
        "  tau = 1 # in fs\n",
        "  E0 = 10 ** -3 # in at. u.\n",
        "  phi = 0\n",
        "               \n",
        "  for i in range (len(t)):\n",
        "       Wabs[i] = W(t[i], tau, E0, phi)\n",
        "  \n",
        "  fig = plt.figure()\n",
        "  fig.patch.set_facecolor('xkcd:white') # outer color        \n",
        "  plt.plot(t, Wabs)   \n",
        "  ax = plt.gca()\n",
        "  ax.set_facecolor((1.0, 1.0, 1.0))    # background color\n",
        "  ax.spines['bottom'].set_linewidth(0.5)\n",
        "  ax.spines['bottom'].set_color('0.0') \n",
        "  ax.spines['top'].set_linewidth(0.5)\n",
        "  ax.spines['top'].set_color('0.0') \n",
        "  ax.spines['left'].set_linewidth(0.5)\n",
        "  ax.spines['left'].set_color('0.0') \n",
        "  ax.spines['right'].set_linewidth(0.5)\n",
        "  ax.spines['right'].set_color('0.0') \n",
        "  ax.grid(b=True, which='major', axis='both', color = 'k', linestyle=':', linewidth=0.2)\n",
        "  plt.xlabel(r't, fs',  {'color': 'k', 'fontsize': 16})\n",
        "  plt.ylabel(r'W', {'color': 'k', 'fontsize': 16})\n",
        "  plt.title(r'$\\tau$ = ' + str(tau) + \" fs\") \n",
        "  plt.show()\n",
        "          \n",
        "W_visualisation()                     "
      ],
      "execution_count": 35,
      "outputs": [
        {
          "output_type": "stream",
          "text": [
            "/usr/local/lib/python3.6/dist-packages/ipykernel_launcher.py:18: ComplexWarning: Casting complex values to real discards the imaginary part\n"
          ],
          "name": "stderr"
        },
        {
          "output_type": "display_data",
          "data": {
            "image/png": "[encoded data removed]",
            "text/plain": [
              "<Figure size 432x288 with 1 Axes>"
            ]
          },
          "metadata": {
            "tags": []
          }
        }
      ]
    }
  ]
}